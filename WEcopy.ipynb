{
 "cells": [
  {
   "cell_type": "code",
   "execution_count": 33,
   "id": "dd054204-7386-41e7-a38b-007bc5eb39b2",
   "metadata": {
    "execution": {
     "iopub.execute_input": "2023-11-12T01:23:12.090933Z",
     "iopub.status.busy": "2023-11-12T01:23:12.090151Z",
     "iopub.status.idle": "2023-11-12T01:23:12.108310Z",
     "shell.execute_reply": "2023-11-12T01:23:12.107029Z",
     "shell.execute_reply.started": "2023-11-12T01:23:12.090877Z"
    },
    "tags": []
   },
   "outputs": [],
   "source": [
    "from sklearn.preprocessing import LabelEncoder\n",
    "from sklearn.model_selection import train_test_split\n",
    "from tensorflow.keras.layers import Dense, Input, ConvLSTM2D, Conv2D, MaxPooling3D, GRU, LSTM, MaxPooling3D,\\\n",
    "                                    GlobalAveragePooling2D,Conv3D, Flatten, Dropout, TimeDistributed,\\\n",
    "                                    Lambda, Reshape\n",
    "from tensorflow.keras.models import Sequential\n",
    "from tensorflow.keras.utils import to_categorical\n",
    "from tensorflow.keras.backend import squeeze\n",
    "from tensorflow.keras.layers import LeakyReLU\n",
    "from tensorflow.keras.callbacks import EarlyStopping\n",
    "import tensorflow as tf\n",
    "import numpy as np\n",
    "import pandas as pd\n",
    "import matplotlib.pyplot as plt\n",
    "import cv2\n",
    "import os"
   ]
  },
  {
   "cell_type": "code",
   "execution_count": 41,
   "id": "90f3044a-134e-4036-832f-f10d33f44228",
   "metadata": {
    "execution": {
     "iopub.execute_input": "2023-11-12T02:37:32.658041Z",
     "iopub.status.busy": "2023-11-12T02:37:32.657093Z",
     "iopub.status.idle": "2023-11-12T02:37:32.681862Z",
     "shell.execute_reply": "2023-11-12T02:37:32.680782Z",
     "shell.execute_reply.started": "2023-11-12T02:37:32.657997Z"
    },
    "tags": []
   },
   "outputs": [],
   "source": [
    "count_cadrs = 28\n",
    "x_size = 144\n",
    "y_size = 144\n",
    "count_classes = 23\n",
    "n_ports = 3\n",
    "n_videos = 4"
   ]
  },
  {
   "cell_type": "code",
   "execution_count": 45,
   "id": "38aa26d8-5185-4155-814e-1eb6323b5d72",
   "metadata": {
    "execution": {
     "iopub.execute_input": "2023-11-12T02:40:32.458201Z",
     "iopub.status.busy": "2023-11-12T02:40:32.456869Z",
     "iopub.status.idle": "2023-11-12T02:41:05.265111Z",
     "shell.execute_reply": "2023-11-12T02:41:05.263923Z",
     "shell.execute_reply.started": "2023-11-12T02:40:32.458167Z"
    },
    "tags": []
   },
   "outputs": [
    {
     "name": "stdout",
     "output_type": "stream",
     "text": [
      "-------> cartwheel <-------\n",
      "-------> catch <-------\n",
      "-------> clap <-------\n",
      "-------> climb <-------\n",
      "-------> dive <-------\n",
      "-------> draw_sword <-------\n",
      "-------> dribble <-------\n",
      "-------> fencing <-------\n",
      "-------> flic_flac <-------\n",
      "-------> golf <-------\n",
      "-------> handstand <-------\n",
      "-------> hit <-------\n",
      "-------> jump <-------\n",
      "-------> pick <-------\n",
      "-------> pour <-------\n",
      "-------> pullup <-------\n",
      "-------> push <-------\n",
      "-------> pushup <-------\n",
      "-------> shoot_ball <-------\n",
      "-------> sit <-------\n",
      "-------> situp <-------\n",
      "-------> swing_baseball <-------\n",
      "-------> sword_exercise <-------\n",
      "-------> throw <-------\n",
      "-------> assets <-------\n",
      "-------> .ipynb_checkpoints <-------\n"
     ]
    }
   ],
   "source": [
    "data_frame = pd.DataFrame(columns=['video', 'class_name'])\n",
    "index = 0\n",
    "url = '/home/jupyter/datasphere/project/D/Stavropol/Videos'\n",
    "list_names = os.listdir(url)\n",
    "\n",
    "for name in list_names:\n",
    "    print('------->',name, '<-------')\n",
    "    new_url_1 = url+f'/{name}'\n",
    "    list_videos_name = os.listdir(new_url_1)\n",
    "    \n",
    "    for video in list_videos_name[:40]:\n",
    "        new_url_2 = new_url_1 + f'/{video}'\n",
    "        cap = cv2.VideoCapture(new_url_2)\n",
    "        num = -1\n",
    "        frames = []\n",
    "        \n",
    "        while(cap.isOpened()):\n",
    "            num += 1\n",
    "            if num in [2, 4]:\n",
    "                continue\n",
    "            ret, frame = cap.read()\n",
    "            if (ret == True):\n",
    "                if num % 2 == 0:\n",
    "                    # Преобразование кадра в тензор\n",
    "                    frame = cv2.resize(frame, (x_size, y_size)) # Изменение размера кадра\n",
    "                    frame = frame / 255.0 # Нормализация пикселей\n",
    "                    frame = np.expand_dims(frame, axis=[0]) # Добавление измерения для тензора\n",
    "                    frames.append(frame)\n",
    "            else:\n",
    "                break\n",
    "            if len(frames) == count_cadrs:\n",
    "                #print('Попалось видео с недостатком кадров')\n",
    "                break\n",
    "        \n",
    "        # Преобразование списка тензоров в тензор\n",
    "        try:\n",
    "            frames = np.concatenate(frames, axis=0)\n",
    "        except ValueError:\n",
    "            pass\n",
    "        if frames.shape[0] < count_cadrs:\n",
    "            continue    \n",
    "        #print(frames.shape)\n",
    "        data_frame.loc[index, 'video'] = frames\n",
    "        data_frame.loc[index, 'class_name'] = name\n",
    "        index += 1\n",
    "        cap.release()\n",
    "        cv2.destroyAllWindows()\n",
    "    #print('--------------------------------------------------------------------------------------------------')\n",
    "#print(data_frame['video'].shape)"
   ]
  },
  {
   "cell_type": "code",
   "execution_count": 46,
   "id": "19fbff35-2da8-4856-9d06-dadcfe401244",
   "metadata": {
    "execution": {
     "iopub.execute_input": "2023-11-12T02:41:11.792145Z",
     "iopub.status.busy": "2023-11-12T02:41:11.791262Z",
     "iopub.status.idle": "2023-11-12T02:41:11.813541Z",
     "shell.execute_reply": "2023-11-12T02:41:11.812504Z",
     "shell.execute_reply.started": "2023-11-12T02:41:11.792096Z"
    },
    "tags": []
   },
   "outputs": [
    {
     "data": {
      "text/plain": [
       "22"
      ]
     },
     "execution_count": 46,
     "metadata": {},
     "output_type": "execute_result"
    }
   ],
   "source": [
    "encoder = LabelEncoder()\n",
    "d_ = encoder.fit_transform(data_frame['class_name'])\n",
    "d_\n",
    "data_frame['class_name'] = d_\n",
    "data_frame['class_name'].max()"
   ]
  },
  {
   "cell_type": "code",
   "execution_count": 47,
   "id": "d51a9666-ede9-4d07-86db-c72c270196bd",
   "metadata": {
    "execution": {
     "iopub.execute_input": "2023-11-12T02:41:16.891319Z",
     "iopub.status.busy": "2023-11-12T02:41:16.890447Z",
     "iopub.status.idle": "2023-11-12T02:41:26.315044Z",
     "shell.execute_reply": "2023-11-12T02:41:26.313867Z",
     "shell.execute_reply.started": "2023-11-12T02:41:16.891281Z"
    },
    "tags": []
   },
   "outputs": [],
   "source": [
    "X = np.array(data_frame['video'].tolist())\n",
    "y = to_categorical(data_frame['class_name'], num_classes=count_classes)\n",
    "\n",
    "X_train, X_test, y_train, y_test = train_test_split(X, y, test_size=0.2, random_state=22)"
   ]
  },
  {
   "cell_type": "code",
   "execution_count": 54,
   "id": "4209503a-8dbc-4414-aff0-754fa66ddd42",
   "metadata": {
    "execution": {
     "iopub.execute_input": "2023-11-12T02:51:18.868635Z",
     "iopub.status.busy": "2023-11-12T02:51:18.867786Z",
     "iopub.status.idle": "2023-11-12T02:51:20.695806Z",
     "shell.execute_reply": "2023-11-12T02:51:20.694512Z",
     "shell.execute_reply.started": "2023-11-12T02:51:18.868573Z"
    },
    "tags": []
   },
   "outputs": [
    {
     "name": "stdout",
     "output_type": "stream",
     "text": [
      "Model: \"sequential_4\"\n",
      "_________________________________________________________________\n",
      " Layer (type)                Output Shape              Param #   \n",
      "=================================================================\n",
      " conv_lstm2d_16 (ConvLSTM2D)  (None, 28, 142, 142, 8)  3200      \n",
      "                                                                 \n",
      " max_pooling3d_16 (MaxPoolin  (None, 28, 71, 71, 8)    0         \n",
      " g3D)                                                            \n",
      "                                                                 \n",
      " conv_lstm2d_17 (ConvLSTM2D)  (None, 28, 69, 69, 4)    1744      \n",
      "                                                                 \n",
      " max_pooling3d_17 (MaxPoolin  (None, 28, 35, 35, 4)    0         \n",
      " g3D)                                                            \n",
      "                                                                 \n",
      " conv_lstm2d_18 (ConvLSTM2D)  (None, 28, 33, 33, 8)    3488      \n",
      "                                                                 \n",
      " max_pooling3d_18 (MaxPoolin  (None, 28, 17, 17, 8)    0         \n",
      " g3D)                                                            \n",
      "                                                                 \n",
      " time_distributed_8 (TimeDis  (None, 28, 17, 17, 8)    0         \n",
      " tributed)                                                       \n",
      "                                                                 \n",
      " conv_lstm2d_19 (ConvLSTM2D)  (None, 28, 15, 15, 8)    4640      \n",
      "                                                                 \n",
      " max_pooling3d_19 (MaxPoolin  (None, 28, 8, 8, 8)      0         \n",
      " g3D)                                                            \n",
      "                                                                 \n",
      " time_distributed_9 (TimeDis  (None, 28, 8, 8, 8)      0         \n",
      " tributed)                                                       \n",
      "                                                                 \n",
      " flatten_4 (Flatten)         (None, 14336)             0         \n",
      "                                                                 \n",
      " dense_12 (Dense)            (None, 16)                229392    \n",
      "                                                                 \n",
      " dense_13 (Dense)            (None, 32)                544       \n",
      "                                                                 \n",
      " dense_14 (Dense)            (None, 23)                759       \n",
      "                                                                 \n",
      "=================================================================\n",
      "Total params: 243,767\n",
      "Trainable params: 243,767\n",
      "Non-trainable params: 0\n",
      "_________________________________________________________________\n"
     ]
    }
   ],
   "source": [
    "model = Sequential([\n",
    "    ConvLSTM2D(filters = 8, kernel_size = (3, 3), activation = 'tanh',data_format = \"channels_last\",\n",
    "               recurrent_dropout=0.2, return_sequences=True, \n",
    "               input_shape = (count_cadrs, x_size, y_size, n_ports)),\n",
    "    MaxPooling3D(pool_size=(1, 2, 2), padding='same', data_format='channels_last'),\n",
    "    #TimeDistributed(Dropout(0.2)),\n",
    "    \n",
    "    ConvLSTM2D(filters = 4, kernel_size = (3, 3), activation = 'tanh',data_format = \"channels_last\",\n",
    "               recurrent_dropout=0.2, return_sequences=True),\n",
    "    MaxPooling3D(pool_size=(1, 2, 2), padding='same', data_format='channels_last'),\n",
    "    #TimeDistributed(Dropout(0.2)),\n",
    "    \n",
    "    ConvLSTM2D(filters = 8, kernel_size = (3, 3), activation = 'tanh',data_format = \"channels_last\",\n",
    "               recurrent_dropout=0.2, return_sequences=True),\n",
    "    MaxPooling3D(pool_size=(1, 2, 2), padding='same', data_format='channels_last'),\n",
    "    TimeDistributed(Dropout(0.2)),\n",
    "    \n",
    "    ConvLSTM2D(filters = 8, kernel_size = (3, 3), activation = 'tanh',data_format = \"channels_last\",\n",
    "               recurrent_dropout=0.2, return_sequences=True),\n",
    "    MaxPooling3D(pool_size=(1, 2, 2), padding='same', data_format='channels_last'),\n",
    "    TimeDistributed(Dropout(0.2)),\n",
    "    \n",
    "    Flatten(),\n",
    "    Dense(16, activation='linear'),\n",
    "    Dense(32, activation='linear'),\n",
    "    Dense(count_classes, activation='softmax')\n",
    "])\n",
    "\n",
    "model.summary()"
   ]
  },
  {
   "cell_type": "code",
   "execution_count": 55,
   "id": "010fd124-1d19-4c00-9bca-0bf10c8d22a0",
   "metadata": {
    "execution": {
     "iopub.execute_input": "2023-11-12T02:51:21.404104Z",
     "iopub.status.busy": "2023-11-12T02:51:21.403349Z",
     "iopub.status.idle": "2023-11-12T02:51:21.416632Z",
     "shell.execute_reply": "2023-11-12T02:51:21.415603Z",
     "shell.execute_reply.started": "2023-11-12T02:51:21.404062Z"
    },
    "tags": []
   },
   "outputs": [],
   "source": [
    "early_stopping_callback = EarlyStopping(monitor = 'val_loss', patience = 10, mode = 'min', \n",
    "                                        restore_best_weights = True)"
   ]
  },
  {
   "cell_type": "code",
   "execution_count": 56,
   "id": "94411022-5b70-4a09-b69b-0c8be5c9dbd1",
   "metadata": {
    "execution": {
     "iopub.execute_input": "2023-11-12T02:51:22.246367Z",
     "iopub.status.busy": "2023-11-12T02:51:22.245369Z",
     "iopub.status.idle": "2023-11-12T02:51:22.269385Z",
     "shell.execute_reply": "2023-11-12T02:51:22.268331Z",
     "shell.execute_reply.started": "2023-11-12T02:51:22.246289Z"
    },
    "tags": []
   },
   "outputs": [],
   "source": [
    "model.compile(optimizer='adam', loss='categorical_crossentropy', metrics=['accuracy'])"
   ]
  },
  {
   "cell_type": "code",
   "execution_count": 57,
   "id": "44d43e17-9e9d-4f4f-9ba7-8fd64420b00e",
   "metadata": {
    "execution": {
     "iopub.execute_input": "2023-11-12T02:51:23.763843Z",
     "iopub.status.busy": "2023-11-12T02:51:23.762839Z",
     "iopub.status.idle": "2023-11-12T02:54:31.288358Z",
     "shell.execute_reply": "2023-11-12T02:54:31.286275Z",
     "shell.execute_reply.started": "2023-11-12T02:51:23.763806Z"
    },
    "tags": []
   },
   "outputs": [
    {
     "name": "stdout",
     "output_type": "stream",
     "text": [
      "Epoch 1/10\n"
     ]
    },
    {
     "name": "stderr",
     "output_type": "stream",
     "text": [
      "2023-11-12 02:51:42.311754: E tensorflow/core/grappler/optimizers/meta_optimizer.cc:954] layout failed: INVALID_ARGUMENT: Size of values 0 does not match size of permutation 4 @ fanin shape insequential_4/conv_lstm2d_16/while/body/_1/sequential_4/conv_lstm2d_16/while/dropout_3/SelectV2-2-TransposeNHWCToNCHW-LayoutOptimizer\n"
     ]
    },
    {
     "name": "stdout",
     "output_type": "stream",
     "text": [
      "15/15 [==============================] - 35s 1s/step - loss: 3.1132 - accuracy: 0.0465 - val_loss: 3.0317 - val_accuracy: 0.0588\n",
      "Epoch 2/10\n",
      "15/15 [==============================] - 16s 1s/step - loss: 3.0196 - accuracy: 0.1057 - val_loss: 2.8584 - val_accuracy: 0.1765\n",
      "Epoch 3/10\n",
      "15/15 [==============================] - 16s 1s/step - loss: 2.7289 - accuracy: 0.2178 - val_loss: 2.5745 - val_accuracy: 0.2521\n",
      "Epoch 4/10\n",
      "15/15 [==============================] - 16s 1s/step - loss: 2.3325 - accuracy: 0.3362 - val_loss: 2.3611 - val_accuracy: 0.3361\n",
      "Epoch 5/10\n",
      "15/15 [==============================] - 16s 1s/step - loss: 1.8925 - accuracy: 0.4672 - val_loss: 2.2959 - val_accuracy: 0.3445\n",
      "Epoch 6/10\n",
      "15/15 [==============================] - 16s 1s/step - loss: 1.4964 - accuracy: 0.5603 - val_loss: 2.2766 - val_accuracy: 0.3782\n",
      "Epoch 7/10\n",
      "15/15 [==============================] - 16s 1s/step - loss: 1.1945 - accuracy: 0.6596 - val_loss: 2.0537 - val_accuracy: 0.4874\n",
      "Epoch 8/10\n",
      "15/15 [==============================] - 16s 1s/step - loss: 0.8905 - accuracy: 0.7273 - val_loss: 2.2112 - val_accuracy: 0.4370\n",
      "Epoch 9/10\n",
      "15/15 [==============================] - 16s 1s/step - loss: 0.6264 - accuracy: 0.8224 - val_loss: 2.4826 - val_accuracy: 0.4622\n",
      "Epoch 10/10\n",
      "15/15 [==============================] - 16s 1s/step - loss: 0.4654 - accuracy: 0.8668 - val_loss: 2.3791 - val_accuracy: 0.4706\n"
     ]
    }
   ],
   "source": [
    "train_history = model.fit(X_train, y_train,\n",
    "                          epochs=10,\n",
    "                          batch_size=32,\n",
    "                          shuffle=True,\n",
    "                          validation_split=0.2,\n",
    "                          callbacks=[early_stopping_callback])"
   ]
  },
  {
   "cell_type": "code",
   "execution_count": 61,
   "id": "6b5f4c16-ee66-4fba-84f8-283af6b87077",
   "metadata": {
    "execution": {
     "iopub.execute_input": "2023-11-12T02:55:04.378204Z",
     "iopub.status.busy": "2023-11-12T02:55:04.377424Z",
     "iopub.status.idle": "2023-11-12T02:55:08.060493Z",
     "shell.execute_reply": "2023-11-12T02:55:08.059324Z",
     "shell.execute_reply.started": "2023-11-12T02:55:04.378155Z"
    },
    "tags": []
   },
   "outputs": [
    {
     "name": "stdout",
     "output_type": "stream",
     "text": [
      "5/5 [==============================] - 1s 208ms/step - loss: 3.4363 - accuracy: 0.4027\n"
     ]
    },
    {
     "data": {
      "text/plain": [
       "[3.436281681060791, 0.4026845693588257]"
      ]
     },
     "execution_count": 61,
     "metadata": {},
     "output_type": "execute_result"
    }
   ],
   "source": [
    "test_history = model.evaluate(X_test, y_test)\n",
    "test_history"
   ]
  },
  {
   "cell_type": "code",
   "execution_count": 79,
   "id": "5c073e3d-383c-4dce-9340-b449fd0bc971",
   "metadata": {
    "execution": {
     "iopub.execute_input": "2023-11-12T03:05:42.575744Z",
     "iopub.status.busy": "2023-11-12T03:05:42.574633Z",
     "iopub.status.idle": "2023-11-12T03:05:42.830245Z",
     "shell.execute_reply": "2023-11-12T03:05:42.829180Z",
     "shell.execute_reply.started": "2023-11-12T03:05:42.575690Z"
    },
    "tags": []
   },
   "outputs": [
    {
     "data": {
      "image/png": "[encoded data removed]",
      "text/plain": [
       "<Figure size 432x288 with 1 Axes>"
      ]
     },
     "metadata": {
      "needs_background": "light"
     },
     "output_type": "display_data"
    }
   ],
   "source": [
    "# Plotting Training and Validation Loss\n",
    "plt.figure()\n",
    "plt.plot(train_history.history['loss'], label='Training Loss')\n",
    "plt.plot(train_history.history['val_loss'], label='Validation Loss')\n",
    "plt.title('Training and Validation Loss')\n",
    "plt.xlabel('Epochs')\n",
    "plt.ylabel('Loss')\n",
    "plt.legend()\n",
    "plt.show()"
   ]
  },
  {
   "cell_type": "code",
   "execution_count": 95,
   "id": "4a329f74-36a1-4b84-80ce-ac8e772bc47c",
   "metadata": {
    "execution": {
     "iopub.execute_input": "2023-11-12T03:19:05.337172Z",
     "iopub.status.busy": "2023-11-12T03:19:05.336414Z",
     "iopub.status.idle": "2023-11-12T03:19:05.569572Z",
     "shell.execute_reply": "2023-11-12T03:19:05.568418Z",
     "shell.execute_reply.started": "2023-11-12T03:19:05.337122Z"
    },
    "tags": []
   },
   "outputs": [
    {
     "data": {
      "image/png": "[encoded data removed]",
      "text/plain": [
       "<Figure size 432x288 with 1 Axes>"
      ]
     },
     "metadata": {
      "needs_background": "light"
     },
     "output_type": "display_data"
    }
   ],
   "source": [
    "# Plotting Training and Validation Loss\n",
    "plt.figure()\n",
    "plt.plot(train_history.history['accuracy'], label='Training Accuracy')\n",
    "plt.plot(train_history.history['val_accuracy'], label='Validation Accuracy')\n",
    "plt.title('Training and Validation Loss')\n",
    "plt.xlabel('Epochs')\n",
    "plt.ylabel('Accuracy')\n",
    "plt.legend()\n",
    "plt.show()"
   ]
  },
  {
   "cell_type": "code",
   "execution_count": null,
   "id": "590a630e-544b-4c6a-9004-a0ab47b969f7",
   "metadata": {
    "tags": []
   },
   "outputs": [],
   "source": [
    "model.save(f'/home/jupyter/datasphere/project/Models/NN_acc_38')"
   ]
  },
  {
   "cell_type": "code",
   "execution_count": null,
   "id": "8625db84-c241-4168-82b5-deba3fd3ce69",
   "metadata": {
    "execution": {
     "iopub.execute_input": "2023-11-12T01:03:49.173195Z",
     "iopub.status.busy": "2023-11-12T01:03:49.172164Z",
     "iopub.status.idle": "2023-11-12T01:03:50.490325Z",
     "shell.execute_reply": "2023-11-12T01:03:50.488943Z",
     "shell.execute_reply.started": "2023-11-12T01:03:49.173159Z"
    },
    "tags": []
   },
   "outputs": [],
   "source": [
    "\n",
    "def getFrames(video_path):\n",
    "    cap = cv2.VideoCapture(video_path)\n",
    "    num = -1\n",
    "    frames = []\n",
    "\n",
    "    while(cap.isOpened()):\n",
    "        num += 1\n",
    "        if num in [2, 4]:\n",
    "            continue\n",
    "        ret, frame = cap.read()\n",
    "        if (ret == True):\n",
    "            if num % 2 == 0:\n",
    "                # Преобразование кадра в тензор\n",
    "                frame = cv2.resize(frame, (x_size, y_size)) # Изменение размера кадра\n",
    "                frame = frame / 255.0 # Нормализация пикселей\n",
    "                frame = np.expand_dims(frame, axis=[0]) # Добавление измерения для тензора\n",
    "                frames.append(frame)\n",
    "        else:\n",
    "            break\n",
    "        if len(frames) == count_cadrs:\n",
    "            #print('Попалось видео с недостатком кадров')\n",
    "            break\n",
    "\n",
    "    # Преобразование списка тензоров в тензор\n",
    "    try:\n",
    "        frames = np.concatenate(frames, axis=0)\n",
    "    except ValueError:\n",
    "        pass  \n",
    "    return frames.reshape((1, 28, 144,144,3))\n",
    "\n",
    "\n",
    "np.argmaxmodel.predict(getFrames(\"/home/jupyter/datasphere/project/D/Stavropol/D/videos_little/draw_sword/Eishin_Ryu_Iaido_-_Toho_Forms_draw_sword_f_cm_np1_le_med_1.avi\"))"
   ]
  },
  {
   "cell_type": "code",
   "execution_count": null,
   "id": "d88c71bc-0d58-4aa0-8f08-079b81342666",
   "metadata": {},
   "outputs": [],
   "source": []
  }
 ],
 "metadata": {
  "kernelspec": {
   "display_name": "DataSphere Kernel",
   "language": "python",
   "name": "python3"
  },
  "language_info": {
   "codemirror_mode": {
    "name": "ipython",
    "version": 3
   },
   "file_extension": ".py",
   "mimetype": "text/x-python",
   "name": "python",
   "nbconvert_exporter": "python",
   "pygments_lexer": "ipython3",
   "version": "3.7.7"
  }
 },
 "nbformat": 4,
 "nbformat_minor": 5
}
